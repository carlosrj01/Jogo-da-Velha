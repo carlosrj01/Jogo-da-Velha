# Primeiro Projeto do Curso Python da Udemy - Python 3 do INICIANTE AO AVANÇADO



def display_board(grade):
    print("\n" * 10)
    print("       |            |   ")
    print(" {}     |     {}      |  {} ".format(grade[1],grade[2],grade[3]))
    print("       |            |   ")
    print("---------------------------")
    print("       |            |   ")
    print(" {}     |     {}      |  {}".format(grade[4], grade[5], grade[6]))
    print("       |            |  ")
    print("---------------------------")
    print("       |            |   ")
    print(" {}     |     {}      |  {}".format(grade[7], grade[8], grade[9]))
    print("       |            |   ")

def player_input():
    marker = ""
    while not (marker == "X" or marker == "O"):
        marker = input("Você deseja ser o jogador X ou O").upper()
    if marker == "X":
        return ("X","O")
    else:
        return ("O","X")

def place_marker(board, marker, position):
    board[position] = marker

def win_check(grade,mark):
    
     ## Verifica as combinações com 1
    if grade[1] == mark and grade[4] == mark and grade[7] == mark:
        return True
    elif grade[1] == mark and grade[2] == mark and grade[3] == mark:
        return True
    elif grade[1] == mark and grade[5] == mark and grade[9] == mark:
        return True
    
    ## Verifica as combinações com 2
    elif grade[2] == mark and grade[5] == mark and grade[8] == mark:
        return True
    
    
    ## Verifica as combinações com 3
    elif grade[3] == mark and grade[5] == mark and grade[7] == mark:
        return True
    elif grade[3] == mark and grade[6] == mark and grade[9] == mark:
        return True
        
    ## Verifica as combinações com 4
    elif grade[4] == mark and grade[5] == mark and grade[6] == mark:
        return True
    
    ## Verificar as condições de 5, 6, 8 e 9 já estão nos trechos de código acima
    
    ## Verifica as combinações de 7
    elif grade[7] == mark and grade[8] == mark and grade[9] == mark:
        return True
    
    else:
        return False

from random import randint
def choose_first():
    player = randint(0,1)
    if player == 0:
        return "Player 1"
    else:
        return "Player 2"

def space_check(grade, position):
    if grade[position] == "_":
        return True
    else:
        return False

def full_board_check(grade):
    for i in range(1,10):
        if space_check(grade,i):
            return False
    return True
    

def player_choice(grade):
    marca = int(input("Digite em qual posição você quer inserir [1 - 9]: "))
        
    while marca not in "1 2 3 4 5 6 7 8 9".split() or marca not in space_check(grade,marca):
        return marca
    

def replay():
    return input("Vocês gostariam de continuar [S] - Sim | [N] - Não").upper().startswith("S")

print('Bem vindo ao jogo da velha!')


tabuleiro = ["_"] * 10
game = True
play = choose_first()

while True:
    jogador1, jogador2 = player_input()
    play = choose_first()
    display_board(tabuleiro)
    while game:
        
        
        
        if play == "Player 1":
            place_marker(tabuleiro,jogador1,player_choice(tabuleiro))
            play = "Player 2"
            
            display_board(tabuleiro)
            
            
            if win_check(tabuleiro,jogador1):
                print("Vitoria do jogador 1!")
                break
            
            
            if full_board_check(tabuleiro):
                print("Empate!")
                break
            
            
        if play == "Player 2":
            
            place_marker(tabuleiro,jogador2,player_choice(tabuleiro))
            play = "Player 1"
            display_board(tabuleiro)
            
            
            if win_check(tabuleiro,jogador2):
                print("Vitoria do jogador 2!")
                break
            
            
            if full_board_check(tabuleiro):
                print("Empate!")
                break
            
                
    if replay() == False:
        break
